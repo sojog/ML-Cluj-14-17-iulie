{
 "cells": [
  {
   "cell_type": "code",
   "execution_count": 1,
   "id": "fdd8de20",
   "metadata": {},
   "outputs": [],
   "source": [
    "colectie = [10, 20, 30, 40, 50]\n",
    "\n"
   ]
  },
  {
   "cell_type": "code",
   "execution_count": 2,
   "id": "482915aa",
   "metadata": {},
   "outputs": [],
   "source": [
    "def dubleaza(x):\n",
    "    return x * 2"
   ]
  },
  {
   "cell_type": "code",
   "execution_count": 3,
   "id": "3cbac961",
   "metadata": {},
   "outputs": [
    {
     "data": {
      "text/plain": [
       "[10, 20, 30, 40, 50, 10, 20, 30, 40, 50]"
      ]
     },
     "execution_count": 3,
     "metadata": {},
     "output_type": "execute_result"
    }
   ],
   "source": [
    "dubleaza(colectie)"
   ]
  },
  {
   "cell_type": "code",
   "execution_count": 4,
   "id": "a443400f",
   "metadata": {},
   "outputs": [
    {
     "data": {
      "text/plain": [
       "[10, 20, 30, 40, 50, 10, 20, 30, 40, 50]"
      ]
     },
     "execution_count": 4,
     "metadata": {},
     "output_type": "execute_result"
    }
   ],
   "source": [
    "colectie + colectie"
   ]
  },
  {
   "cell_type": "code",
   "execution_count": 5,
   "id": "75ac158f",
   "metadata": {},
   "outputs": [
    {
     "data": {
      "text/plain": [
       "<map at 0x107ca4550>"
      ]
     },
     "execution_count": 5,
     "metadata": {},
     "output_type": "execute_result"
    }
   ],
   "source": [
    "map(dubleaza,colectie)"
   ]
  },
  {
   "cell_type": "code",
   "execution_count": null,
   "id": "3421b78c",
   "metadata": {},
   "outputs": [
    {
     "data": {
      "text/plain": [
       "[20, 40, 60, 80, 100]"
      ]
     },
     "execution_count": 6,
     "metadata": {},
     "output_type": "execute_result"
    }
   ],
   "source": [
    "list(map(dubleaza, colectie))"
   ]
  },
  {
   "cell_type": "code",
   "execution_count": 7,
   "id": "73e0a906",
   "metadata": {},
   "outputs": [
    {
     "data": {
      "text/plain": [
       "['10', '20', '30', '40', '50']"
      ]
     },
     "execution_count": 7,
     "metadata": {},
     "output_type": "execute_result"
    }
   ],
   "source": [
    "list(map(str, colectie))"
   ]
  },
  {
   "cell_type": "code",
   "execution_count": 8,
   "id": "7fac0d49",
   "metadata": {},
   "outputs": [
    {
     "data": {
      "text/plain": [
       "[21, 31, 41, 51, 61]"
      ]
     },
     "execution_count": 8,
     "metadata": {},
     "output_type": "execute_result"
    }
   ],
   "source": [
    "list(map(lambda x: x + 11, colectie))"
   ]
  },
  {
   "cell_type": "code",
   "execution_count": 9,
   "id": "eeaac873",
   "metadata": {},
   "outputs": [
    {
     "data": {
      "text/plain": [
       "[100, 400, 900, 1600, 2500]"
      ]
     },
     "execution_count": 9,
     "metadata": {},
     "output_type": "execute_result"
    }
   ],
   "source": [
    "list(map(lambda x: x ** 2, colectie))"
   ]
  },
  {
   "cell_type": "code",
   "execution_count": 10,
   "id": "3b3c36f8",
   "metadata": {},
   "outputs": [],
   "source": [
    "def mai_mare_ca_40(x):\n",
    "    return x > 40"
   ]
  },
  {
   "cell_type": "code",
   "execution_count": 14,
   "id": "8dc8f4ff",
   "metadata": {},
   "outputs": [],
   "source": [
    "colectie = [10, 20, 30, 40, 50, 60, 312, 312, 312, 4125, 41]\n"
   ]
  },
  {
   "cell_type": "code",
   "execution_count": 15,
   "id": "49cfd2d7",
   "metadata": {},
   "outputs": [
    {
     "data": {
      "text/plain": [
       "[50, 60, 312, 312, 312, 4125, 41]"
      ]
     },
     "execution_count": 15,
     "metadata": {},
     "output_type": "execute_result"
    }
   ],
   "source": [
    "\n",
    "list(filter( mai_mare_ca_40, colectie))\n",
    "\n",
    "\n"
   ]
  },
  {
   "cell_type": "code",
   "execution_count": 16,
   "id": "19a7128d",
   "metadata": {},
   "outputs": [
    {
     "data": {
      "text/plain": [
       "[10, 20, 30, 40, 50, 60, 312, 312, 312]"
      ]
     },
     "execution_count": 16,
     "metadata": {},
     "output_type": "execute_result"
    }
   ],
   "source": [
    "\n",
    "list(filter( lambda x: x % 2 == 0, colectie))"
   ]
  },
  {
   "cell_type": "code",
   "execution_count": 17,
   "id": "7b3b6072",
   "metadata": {},
   "outputs": [],
   "source": [
    "from functools import reduce"
   ]
  },
  {
   "cell_type": "code",
   "execution_count": 22,
   "id": "d98f817e",
   "metadata": {},
   "outputs": [],
   "source": [
    "def compara(x, y):\n",
    "    print(\"x=\", x, \"y=\", y)\n",
    "    return x if x > y else y"
   ]
  },
  {
   "cell_type": "code",
   "execution_count": 23,
   "id": "ae1cba49",
   "metadata": {},
   "outputs": [],
   "source": [
    "colectie = [10, 20, 30, 40, 50, 60, 312, 312, 312, 4125, 41]"
   ]
  },
  {
   "cell_type": "code",
   "execution_count": 24,
   "id": "0ab27017",
   "metadata": {},
   "outputs": [
    {
     "name": "stdout",
     "output_type": "stream",
     "text": [
      "x= 10 y= 20\n",
      "x= 20 y= 30\n",
      "x= 30 y= 40\n",
      "x= 40 y= 50\n",
      "x= 50 y= 60\n",
      "x= 60 y= 312\n",
      "x= 312 y= 312\n",
      "x= 312 y= 312\n",
      "x= 312 y= 4125\n",
      "x= 4125 y= 41\n"
     ]
    },
    {
     "data": {
      "text/plain": [
       "4125"
      ]
     },
     "execution_count": 24,
     "metadata": {},
     "output_type": "execute_result"
    }
   ],
   "source": [
    "reduce( compara, colectie)"
   ]
  },
  {
   "cell_type": "code",
   "execution_count": 25,
   "id": "ed0c1be8",
   "metadata": {},
   "outputs": [
    {
     "data": {
      "text/plain": [
       "5312"
      ]
     },
     "execution_count": 25,
     "metadata": {},
     "output_type": "execute_result"
    }
   ],
   "source": [
    "reduce( lambda x, y: x + y , colectie)"
   ]
  },
  {
   "cell_type": "code",
   "execution_count": null,
   "id": "85740d28",
   "metadata": {},
   "outputs": [],
   "source": []
  }
 ],
 "metadata": {
  "kernelspec": {
   "display_name": "Python 3",
   "language": "python",
   "name": "python3"
  },
  "language_info": {
   "codemirror_mode": {
    "name": "ipython",
    "version": 3
   },
   "file_extension": ".py",
   "mimetype": "text/x-python",
   "name": "python",
   "nbconvert_exporter": "python",
   "pygments_lexer": "ipython3",
   "version": "3.13.3"
  }
 },
 "nbformat": 4,
 "nbformat_minor": 5
}
