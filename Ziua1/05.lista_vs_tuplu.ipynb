{
 "cells": [
  {
   "cell_type": "code",
   "execution_count": 4,
   "id": "0597b335",
   "metadata": {},
   "outputs": [
    {
     "name": "stdout",
     "output_type": "stream",
     "text": [
      "[30, 40, 500, 1023, 321] <class 'list'>\n"
     ]
    }
   ],
   "source": [
    "colectie = [30, 40, 500, 1023, 321]\n",
    "print(colectie, type(colectie))"
   ]
  },
  {
   "cell_type": "code",
   "execution_count": 3,
   "id": "4dcf1457",
   "metadata": {},
   "outputs": [
    {
     "data": {
      "text/plain": [
       "[30, 40, 500, 1023, 321]"
      ]
     },
     "execution_count": 3,
     "metadata": {},
     "output_type": "execute_result"
    }
   ],
   "source": [
    "colectie"
   ]
  },
  {
   "cell_type": "code",
   "execution_count": 5,
   "id": "9d468866",
   "metadata": {},
   "outputs": [
    {
     "name": "stdout",
     "output_type": "stream",
     "text": [
      "(30, 40, 500, 1023, 321) <class 'tuple'>\n"
     ]
    }
   ],
   "source": [
    "colectie = (30, 40, 500, 1023, 321)\n",
    "print(colectie, type(colectie))"
   ]
  },
  {
   "cell_type": "code",
   "execution_count": 6,
   "id": "7eeb904c",
   "metadata": {},
   "outputs": [
    {
     "data": {
      "text/plain": [
       "5"
      ]
     },
     "execution_count": 6,
     "metadata": {},
     "output_type": "execute_result"
    }
   ],
   "source": [
    "len(colectie)"
   ]
  },
  {
   "cell_type": "code",
   "execution_count": 7,
   "id": "a61c5f81",
   "metadata": {},
   "outputs": [
    {
     "data": {
      "text/plain": [
       "30"
      ]
     },
     "execution_count": 7,
     "metadata": {},
     "output_type": "execute_result"
    }
   ],
   "source": [
    "colectie[0]"
   ]
  },
  {
   "cell_type": "code",
   "execution_count": 8,
   "id": "873e6cd2",
   "metadata": {},
   "outputs": [
    {
     "data": {
      "text/plain": [
       "321"
      ]
     },
     "execution_count": 8,
     "metadata": {},
     "output_type": "execute_result"
    }
   ],
   "source": [
    "colectie[4]"
   ]
  },
  {
   "cell_type": "code",
   "execution_count": 9,
   "id": "2d3dd890",
   "metadata": {},
   "outputs": [
    {
     "data": {
      "text/plain": [
       "321"
      ]
     },
     "execution_count": 9,
     "metadata": {},
     "output_type": "execute_result"
    }
   ],
   "source": [
    "colectie[-1]"
   ]
  },
  {
   "cell_type": "markdown",
   "id": "eccfc7ef",
   "metadata": {},
   "source": [
    "# Tuple - este imutabil"
   ]
  },
  {
   "cell_type": "code",
   "execution_count": 10,
   "id": "59e5e8ff",
   "metadata": {},
   "outputs": [
    {
     "ename": "AttributeError",
     "evalue": "'tuple' object has no attribute 'append'",
     "output_type": "error",
     "traceback": [
      "\u001b[31m---------------------------------------------------------------------------\u001b[39m",
      "\u001b[31mAttributeError\u001b[39m                            Traceback (most recent call last)",
      "\u001b[36mCell\u001b[39m\u001b[36m \u001b[39m\u001b[32mIn[10]\u001b[39m\u001b[32m, line 1\u001b[39m\n\u001b[32m----> \u001b[39m\u001b[32m1\u001b[39m \u001b[43mcolectie\u001b[49m\u001b[43m.\u001b[49m\u001b[43mappend\u001b[49m(\u001b[32m20\u001b[39m)\n",
      "\u001b[31mAttributeError\u001b[39m: 'tuple' object has no attribute 'append'"
     ]
    }
   ],
   "source": [
    "colectie.append(20)"
   ]
  },
  {
   "cell_type": "code",
   "execution_count": 13,
   "id": "d6320d03",
   "metadata": {},
   "outputs": [],
   "source": [
    "colectie = (30, 30, 400, 300)"
   ]
  },
  {
   "cell_type": "code",
   "execution_count": null,
   "id": "49c28c0d",
   "metadata": {},
   "outputs": [],
   "source": []
  }
 ],
 "metadata": {
  "kernelspec": {
   "display_name": "Python 3",
   "language": "python",
   "name": "python3"
  },
  "language_info": {
   "codemirror_mode": {
    "name": "ipython",
    "version": 3
   },
   "file_extension": ".py",
   "mimetype": "text/x-python",
   "name": "python",
   "nbconvert_exporter": "python",
   "pygments_lexer": "ipython3",
   "version": "3.13.3"
  }
 },
 "nbformat": 4,
 "nbformat_minor": 5
}
