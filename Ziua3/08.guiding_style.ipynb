{
 "cells": [
  {
   "cell_type": "markdown",
   "id": "1ae00a6e",
   "metadata": {},
   "source": [
    "# Link oficial"
   ]
  },
  {
   "cell_type": "markdown",
   "id": "61c8af11",
   "metadata": {},
   "source": [
    "# https://peps.python.org/pep-0008/#descriptive-naming-styles"
   ]
  },
  {
   "cell_type": "markdown",
   "id": "063131b1",
   "metadata": {},
   "source": []
  }
 ],
 "metadata": {
  "language_info": {
   "name": "python"
  }
 },
 "nbformat": 4,
 "nbformat_minor": 5
}
