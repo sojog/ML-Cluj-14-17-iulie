{
 "cells": [
  {
   "cell_type": "code",
   "execution_count": 1,
   "id": "0302c7d4",
   "metadata": {},
   "outputs": [],
   "source": [
    "import numpy as np\n",
    "from sklearn.preprocessing import StandardScaler, MinMaxScaler, RobustScaler\n"
   ]
  },
  {
   "cell_type": "code",
   "execution_count": 3,
   "id": "10fc89c7",
   "metadata": {},
   "outputs": [
    {
     "data": {
      "text/plain": [
       "array([[-500.5],\n",
       "       [-100.1],\n",
       "       [   0. ],\n",
       "       [ 100.1],\n",
       "       [ 900.9]])"
      ]
     },
     "execution_count": 3,
     "metadata": {},
     "output_type": "execute_result"
    }
   ],
   "source": [
    "x  = np.array([-500.5, -100.1, 0, 100.1, 900.9])\n",
    "x = x.reshape((-1, 1))\n",
    "x"
   ]
  },
  {
   "cell_type": "code",
   "execution_count": 4,
   "id": "b179f96a",
   "metadata": {},
   "outputs": [
    {
     "data": {
      "text/plain": [
       "array([[0.        ],\n",
       "       [0.28571429],\n",
       "       [0.35714286],\n",
       "       [0.42857143],\n",
       "       [1.        ]])"
      ]
     },
     "execution_count": 4,
     "metadata": {},
     "output_type": "execute_result"
    }
   ],
   "source": [
    "minmax_scaler = MinMaxScaler(feature_range=(0, 1))\n",
    "x_scaled = minmax_scaler.fit_transform(x)\n",
    "x_scaled\n"
   ]
  },
  {
   "cell_type": "code",
   "execution_count": 9,
   "id": "c2d72322",
   "metadata": {},
   "outputs": [
    {
     "data": {
      "text/plain": [
       "array([0.        , 1.42857143, 1.78571429, 2.14285714, 5.        ])"
      ]
     },
     "execution_count": 9,
     "metadata": {},
     "output_type": "execute_result"
    }
   ],
   "source": [
    "minmax_scaler = MinMaxScaler(feature_range=(0, 5))\n",
    "x_scaled = minmax_scaler.fit_transform(x)\n",
    "x_scaled.flatten()"
   ]
  },
  {
   "cell_type": "code",
   "execution_count": 8,
   "id": "ac61fe00",
   "metadata": {},
   "outputs": [
    {
     "data": {
      "text/plain": [
       "array([0.        , 1.42857143, 1.78571429, 2.14285714, 5.        ])"
      ]
     },
     "execution_count": 8,
     "metadata": {},
     "output_type": "execute_result"
    }
   ],
   "source": [
    "minmax_scaler = MinMaxScaler(feature_range=(0, 5))\n",
    "minmax_scaler.fit(x)\n",
    "x_scaled =  minmax_scaler.transform(x)\n",
    "x_scaled.flatten()"
   ]
  },
  {
   "cell_type": "code",
   "execution_count": 11,
   "id": "54d73c11",
   "metadata": {},
   "outputs": [
    {
     "data": {
      "text/plain": [
       "array([-1.26687088, -0.39316683, -0.17474081,  0.0436852 ,  1.79109332])"
      ]
     },
     "execution_count": 11,
     "metadata": {},
     "output_type": "execute_result"
    }
   ],
   "source": [
    "standard_scaler = StandardScaler()\n",
    "x_standard = standard_scaler.fit_transform(x)\n",
    "x_standard.flatten()"
   ]
  },
  {
   "cell_type": "code",
   "execution_count": 12,
   "id": "467e9f66",
   "metadata": {},
   "outputs": [
    {
     "data": {
      "text/plain": [
       "np.float64(0.0)"
      ]
     },
     "execution_count": 12,
     "metadata": {},
     "output_type": "execute_result"
    }
   ],
   "source": [
    "x_standard.mean()"
   ]
  },
  {
   "cell_type": "code",
   "execution_count": 13,
   "id": "4b2d832d",
   "metadata": {},
   "outputs": [
    {
     "data": {
      "text/plain": [
       "np.float64(1.0)"
      ]
     },
     "execution_count": 13,
     "metadata": {},
     "output_type": "execute_result"
    }
   ],
   "source": [
    "# Standard deviation\n",
    "x_standard.std()"
   ]
  },
  {
   "cell_type": "code",
   "execution_count": 15,
   "id": "8d28c0af",
   "metadata": {},
   "outputs": [
    {
     "data": {
      "text/plain": [
       "array([-2.5, -0.5,  0. ,  0.5,  4.5])"
      ]
     },
     "execution_count": 15,
     "metadata": {},
     "output_type": "execute_result"
    }
   ],
   "source": [
    "robust = RobustScaler()\n",
    "x_robust = robust.fit_transform(x)\n",
    "x_robust.flatten()"
   ]
  },
  {
   "cell_type": "code",
   "execution_count": 16,
   "id": "41956cba",
   "metadata": {},
   "outputs": [
    {
     "data": {
      "text/plain": [
       "array([-1.26687088, -0.39316683, -0.17474081,  0.0436852 ,  1.79109332])"
      ]
     },
     "execution_count": 16,
     "metadata": {},
     "output_type": "execute_result"
    }
   ],
   "source": [
    "x_standard.flatten()"
   ]
  },
  {
   "cell_type": "code",
   "execution_count": null,
   "id": "c2428db9",
   "metadata": {},
   "outputs": [],
   "source": []
  }
 ],
 "metadata": {
  "kernelspec": {
   "display_name": "Python 3",
   "language": "python",
   "name": "python3"
  },
  "language_info": {
   "codemirror_mode": {
    "name": "ipython",
    "version": 3
   },
   "file_extension": ".py",
   "mimetype": "text/x-python",
   "name": "python",
   "nbconvert_exporter": "python",
   "pygments_lexer": "ipython3",
   "version": "3.13.3"
  }
 },
 "nbformat": 4,
 "nbformat_minor": 5
}
