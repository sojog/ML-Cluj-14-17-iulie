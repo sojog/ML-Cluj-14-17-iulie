{
 "cells": [
  {
   "cell_type": "code",
   "execution_count": 1,
   "id": "e3e6487b",
   "metadata": {},
   "outputs": [],
   "source": [
    "import pickle"
   ]
  },
  {
   "cell_type": "code",
   "execution_count": 5,
   "id": "32000e35",
   "metadata": {},
   "outputs": [
    {
     "name": "stdout",
     "output_type": "stream",
     "text": [
      "Studentul cu numele Florin are 20\n",
      "<class 'student.Student'>\n"
     ]
    }
   ],
   "source": [
    "with open(\"student.pkl\", \"rb\") as freeader:\n",
    "    obiect = pickle.load(freeader)\n",
    "    print(obiect)\n",
    "    print(type(obiect))\n"
   ]
  },
  {
   "cell_type": "code",
   "execution_count": null,
   "id": "473360de",
   "metadata": {},
   "outputs": [],
   "source": []
  }
 ],
 "metadata": {
  "kernelspec": {
   "display_name": "Python 3",
   "language": "python",
   "name": "python3"
  },
  "language_info": {
   "codemirror_mode": {
    "name": "ipython",
    "version": 3
   },
   "file_extension": ".py",
   "mimetype": "text/x-python",
   "name": "python",
   "nbconvert_exporter": "python",
   "pygments_lexer": "ipython3",
   "version": "3.13.3"
  }
 },
 "nbformat": 4,
 "nbformat_minor": 5
}
