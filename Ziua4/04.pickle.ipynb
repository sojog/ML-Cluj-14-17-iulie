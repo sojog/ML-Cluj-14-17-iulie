{
 "cells": [
  {
   "cell_type": "code",
   "execution_count": 1,
   "id": "bcbc5944",
   "metadata": {},
   "outputs": [],
   "source": [
    "import pickle\n",
    "\n"
   ]
  },
  {
   "cell_type": "code",
   "execution_count": 2,
   "id": "d0bfe6a0",
   "metadata": {},
   "outputs": [],
   "source": [
    "from student import Student"
   ]
  },
  {
   "cell_type": "code",
   "execution_count": 3,
   "id": "c773602c",
   "metadata": {},
   "outputs": [
    {
     "data": {
      "text/plain": [
       "<student.Student at 0x1049716a0>"
      ]
     },
     "execution_count": 3,
     "metadata": {},
     "output_type": "execute_result"
    }
   ],
   "source": [
    "obiect = Student(\"Florin\", 20)\n",
    "obiect"
   ]
  },
  {
   "cell_type": "code",
   "execution_count": 4,
   "id": "80c27f2d",
   "metadata": {},
   "outputs": [
    {
     "name": "stdout",
     "output_type": "stream",
     "text": [
      "Studentul cu numele Florin are 20\n"
     ]
    }
   ],
   "source": [
    "print(obiect)"
   ]
  },
  {
   "cell_type": "code",
   "execution_count": 6,
   "id": "43710323",
   "metadata": {},
   "outputs": [],
   "source": [
    "with open(\"student.pkl\", \"wb\") as file_writer:\n",
    "    pickle.dump(obiect, file_writer)"
   ]
  },
  {
   "cell_type": "code",
   "execution_count": null,
   "id": "27d34cfe",
   "metadata": {},
   "outputs": [],
   "source": []
  }
 ],
 "metadata": {
  "kernelspec": {
   "display_name": "Python 3",
   "language": "python",
   "name": "python3"
  },
  "language_info": {
   "codemirror_mode": {
    "name": "ipython",
    "version": 3
   },
   "file_extension": ".py",
   "mimetype": "text/x-python",
   "name": "python",
   "nbconvert_exporter": "python",
   "pygments_lexer": "ipython3",
   "version": "3.13.3"
  }
 },
 "nbformat": 4,
 "nbformat_minor": 5
}
