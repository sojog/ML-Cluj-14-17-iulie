{
 "cells": [
  {
   "cell_type": "code",
   "execution_count": 2,
   "id": "d73be55c",
   "metadata": {},
   "outputs": [
    {
     "data": {
      "text/plain": [
       "str"
      ]
     },
     "execution_count": 2,
     "metadata": {},
     "output_type": "execute_result"
    }
   ],
   "source": [
    "text = \"Buna ziua\"\n",
    "type(text)"
   ]
  },
  {
   "cell_type": "code",
   "execution_count": 3,
   "id": "4be583d6",
   "metadata": {},
   "outputs": [
    {
     "data": {
      "text/plain": [
       "'B'"
      ]
     },
     "execution_count": 3,
     "metadata": {},
     "output_type": "execute_result"
    }
   ],
   "source": [
    "text[0]"
   ]
  },
  {
   "cell_type": "code",
   "execution_count": 4,
   "id": "86eea31a",
   "metadata": {},
   "outputs": [
    {
     "data": {
      "text/plain": [
       "'u'"
      ]
     },
     "execution_count": 4,
     "metadata": {},
     "output_type": "execute_result"
    }
   ],
   "source": [
    "text[1]"
   ]
  },
  {
   "cell_type": "code",
   "execution_count": 5,
   "id": "d621a8c3",
   "metadata": {},
   "outputs": [
    {
     "data": {
      "text/plain": [
       "'a'"
      ]
     },
     "execution_count": 5,
     "metadata": {},
     "output_type": "execute_result"
    }
   ],
   "source": [
    "text[-1]"
   ]
  },
  {
   "cell_type": "code",
   "execution_count": 6,
   "id": "a46aa9d0",
   "metadata": {},
   "outputs": [
    {
     "data": {
      "text/plain": [
       "'z'"
      ]
     },
     "execution_count": 6,
     "metadata": {},
     "output_type": "execute_result"
    }
   ],
   "source": [
    "text[-4]"
   ]
  },
  {
   "cell_type": "code",
   "execution_count": 9,
   "id": "c4e8ff0d",
   "metadata": {},
   "outputs": [
    {
     "data": {
      "text/plain": [
       "'ziu'"
      ]
     },
     "execution_count": 9,
     "metadata": {},
     "output_type": "execute_result"
    }
   ],
   "source": [
    "text[-4:-1]"
   ]
  },
  {
   "cell_type": "code",
   "execution_count": 10,
   "id": "daf6f6b6",
   "metadata": {},
   "outputs": [
    {
     "data": {
      "text/plain": [
       "'ziua'"
      ]
     },
     "execution_count": 10,
     "metadata": {},
     "output_type": "execute_result"
    }
   ],
   "source": [
    "text[-4:]"
   ]
  },
  {
   "cell_type": "code",
   "execution_count": 11,
   "id": "498d9f6a",
   "metadata": {},
   "outputs": [
    {
     "name": "stdout",
     "output_type": "stream",
     "text": [
      "i =  B type(i) =  <class 'str'>\n",
      "i =  u type(i) =  <class 'str'>\n",
      "i =  n type(i) =  <class 'str'>\n",
      "i =  a type(i) =  <class 'str'>\n",
      "i =    type(i) =  <class 'str'>\n",
      "i =  z type(i) =  <class 'str'>\n",
      "i =  i type(i) =  <class 'str'>\n",
      "i =  u type(i) =  <class 'str'>\n",
      "i =  a type(i) =  <class 'str'>\n"
     ]
    }
   ],
   "source": [
    "for i in text:\n",
    "    print(\"i = \", i , \"type(i) = \", type(i))"
   ]
  },
  {
   "cell_type": "code",
   "execution_count": null,
   "id": "4a3c8ce4",
   "metadata": {},
   "outputs": [],
   "source": []
  }
 ],
 "metadata": {
  "kernelspec": {
   "display_name": "Python 3",
   "language": "python",
   "name": "python3"
  },
  "language_info": {
   "codemirror_mode": {
    "name": "ipython",
    "version": 3
   },
   "file_extension": ".py",
   "mimetype": "text/x-python",
   "name": "python",
   "nbconvert_exporter": "python",
   "pygments_lexer": "ipython3",
   "version": "3.13.3"
  }
 },
 "nbformat": 4,
 "nbformat_minor": 5
}
